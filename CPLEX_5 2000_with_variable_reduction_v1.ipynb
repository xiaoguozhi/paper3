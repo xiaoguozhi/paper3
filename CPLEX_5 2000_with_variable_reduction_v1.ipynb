{
 "cells": [
  {
   "cell_type": "code",
   "execution_count": 1,
   "id": "bc14ed50",
   "metadata": {},
   "outputs": [],
   "source": [
    "import pandas as pd\n",
    "from sklearn.cluster import KMeans\n",
    "import os\n",
    "import sys\n",
    "import math\n",
    "import time\n",
    "from datetime import datetime\n",
    "import matplotlib.pyplot as plt\n",
    "import matplotlib.dates as mdates\n",
    "import matplotlib.ticker as ticker\n",
    "from matplotlib import cm, colors\n",
    "import copy\n",
    "import numpy as np\n",
    "import seaborn as sns\n",
    "from scipy.spatial import distance_matrix\n",
    "from docplex.mp.model import Model\n",
    "from docplex.util.environment import get_environment\n",
    "from docplex.mp.progress import *\n",
    "%matplotlib inline\n",
    "palette = sns.color_palette(\"bright\", 10)"
   ]
  },
  {
   "cell_type": "code",
   "execution_count": 2,
   "id": "b0ad7d57",
   "metadata": {},
   "outputs": [],
   "source": [
    "#n=500\n",
    "#sampled_df1=pd.read_csv(\"dataset/sub_data_500_20.csv\")\n",
    "sampled_df1=pd.read_csv(\"C:/Users/Zhifeng Guo/python_code/paper3_code/Lagrange_Relaxation/LR_equality/multiple_randomized_datasets_2000points/dataset/sub_data_2000_1.csv\")\n",
    "n=sampled_df1.shape[0]\n",
    "df_X=sampled_df1.loc[:, sampled_df1.columns.str.contains('X')]\n",
    "#df_X=sampled_df1.loc[:, sampled_df1.columns.str.contains('X')]"
   ]
  },
  {
   "cell_type": "code",
   "execution_count": 437,
   "id": "1c3510e1",
   "metadata": {},
   "outputs": [],
   "source": [
    "k0=30\n",
    "#3 to 17\n",
    "#k=9\n",
    "kmeans = KMeans(n_clusters=k0, random_state=0).fit(df_X)"
   ]
  },
  {
   "cell_type": "code",
   "execution_count": 438,
   "id": "0ca44888",
   "metadata": {},
   "outputs": [],
   "source": [
    "#dfij=pd.DataFrame(distance_matrix(df_X_1.values, df_X_1.values), index=df_X_1.index, columns=df_X_1.index)"
   ]
  },
  {
   "cell_type": "code",
   "execution_count": 439,
   "id": "0b33383a",
   "metadata": {},
   "outputs": [],
   "source": [
    "#dfij.tail(n=31)"
   ]
  },
  {
   "cell_type": "code",
   "execution_count": 440,
   "id": "0f497480",
   "metadata": {},
   "outputs": [],
   "source": [
    "cluster_centers=pd.DataFrame(kmeans.cluster_centers_,columns=df_X.columns, index=[\"center\"+str(i) for i in range(k0)])\n",
    "frames = [df_X, cluster_centers]\n",
    "df_X_1 = pd.concat(frames)\n",
    "dfij=pd.DataFrame(distance_matrix(df_X_1.values, df_X_1.values), index=df_X_1.index, columns=df_X_1.index)\n",
    "dij=dfij.to_numpy()\n",
    "dij = np.round(dij, decimals=2)"
   ]
  },
  {
   "cell_type": "code",
   "execution_count": 441,
   "id": "b88abd47",
   "metadata": {},
   "outputs": [],
   "source": [
    "def find_most_closed_points(dij,k0):\n",
    "    N=dij.shape[0]\n",
    "    min_index=[]\n",
    "    for i in range(N-k0,N):\n",
    "        mini_value=math.inf\n",
    "        for j in range(N-k0):\n",
    "            if dij[i,j]<mini_value:\n",
    "                mini_value=dij[i,j]\n",
    "                mini_index=j\n",
    "        min_index.append(mini_index)\n",
    "    return min_index"
   ]
  },
  {
   "cell_type": "code",
   "execution_count": 442,
   "id": "7b2680e4",
   "metadata": {},
   "outputs": [],
   "source": [
    "M=range(len(set(find_most_closed_points(dij,k0))))\n",
    "N=range(sampled_df1.shape[0])\n",
    "column1=list(set(find_most_closed_points(dij,k0)))"
   ]
  },
  {
   "cell_type": "code",
   "execution_count": 443,
   "id": "afdcfe93",
   "metadata": {},
   "outputs": [
    {
     "data": {
      "text/plain": [
       "30"
      ]
     },
     "execution_count": 443,
     "metadata": {},
     "output_type": "execute_result"
    }
   ],
   "source": [
    "len(find_most_closed_points(dij,k0))"
   ]
  },
  {
   "cell_type": "code",
   "execution_count": 444,
   "id": "533155de",
   "metadata": {},
   "outputs": [],
   "source": [
    "pd.DataFrame(column1).to_csv('results/potential_500_20_30_cluster_points.csv')"
   ]
  },
  {
   "cell_type": "code",
   "execution_count": 445,
   "id": "12b5cade",
   "metadata": {},
   "outputs": [
    {
     "data": {
      "text/plain": [
       "29"
      ]
     },
     "execution_count": 445,
     "metadata": {},
     "output_type": "execute_result"
    }
   ],
   "source": [
    "len(column1)"
   ]
  },
  {
   "cell_type": "code",
   "execution_count": 446,
   "id": "52cbfcef",
   "metadata": {},
   "outputs": [],
   "source": [
    "def label_transform(x):\n",
    "    if x in (1, 2, 3):\n",
    "        return 'H'\n",
    "    if x in (52, 53, 54):\n",
    "        return 'L'\n",
    "    return 'O'\n",
    "\n",
    "def label_to_color(x):\n",
    "    if x in (1,2,3):\n",
    "        return c4\n",
    "    if x in (52,53,54):\n",
    "        return c1\n",
    "    return c5\n",
    "\n",
    "def label_to_alphas(x):\n",
    "    if x in (1,2,3):\n",
    "        return 1\n",
    "    if x in (52,53,54):\n",
    "        return 1\n",
    "    return 0.4"
   ]
  },
  {
   "cell_type": "code",
   "execution_count": 447,
   "id": "6fd86793",
   "metadata": {},
   "outputs": [],
   "source": [
    "sampled_df1['al'] = sampled_df1['ACORN_Type'].apply(lambda x:label_transform(x))\n",
    "H=sampled_df1[sampled_df1['al']=='H'].index\n",
    "L=sampled_df1[sampled_df1['al']=='L'].index\n",
    "O=sampled_df1[sampled_df1['al']=='O'].index"
   ]
  },
  {
   "cell_type": "code",
   "execution_count": 448,
   "id": "238b28fe",
   "metadata": {},
   "outputs": [],
   "source": [
    "ddfij=dfij.iloc[0:n,column1]\n",
    "ddfij=ddfij.to_numpy()\n",
    "ddfij = np.round(ddfij, decimals=2)"
   ]
  },
  {
   "cell_type": "code",
   "execution_count": 449,
   "id": "6d183e23",
   "metadata": {},
   "outputs": [],
   "source": [
    "k_list=[]\n",
    "times=[]\n",
    "objective_value=[]"
   ]
  },
  {
   "cell_type": "code",
   "execution_count": 450,
   "id": "4134728d",
   "metadata": {},
   "outputs": [],
   "source": [
    "def get_y_values(y):\n",
    "    Yj=[]\n",
    "    for i in M:\n",
    "        if y[i].solution_value==1:\n",
    "            Yj.append(i)\n",
    "    return Yj"
   ]
  },
  {
   "cell_type": "code",
   "execution_count": 451,
   "id": "9f9fa1b0",
   "metadata": {},
   "outputs": [],
   "source": [
    "def LR(name,N,M,H,L,k,ddfij):\n",
    "    mdl=Model(name=name)\n",
    "        #set variables\n",
    "    x=mdl.binary_var_dict([(i,j) for i in N for j in M],lb=0.0, name=\"x\")\n",
    "    y=mdl.binary_var_dict([j for j in M],name=\"y\")\n",
    "    mdl.add_constraints(x[i, j] -y[j]<= 0 for i in N for j in M)\n",
    "    mdl.add_constraint(mdl.sum(y[j] for j in M) ==k)\n",
    "    mdl.add_constraints(mdl.sum(x[i, j] for j in M) == 1 for i in N)\n",
    "    mdl.add_constraints(x[i1, j]+x[i2, j] -1<= 0 for i1 in H for i2 in L for j in M)\n",
    "    mdl.minimize(mdl.sum(ddfij[i, j]*x[i,j] for i in N for j in M))\n",
    "    sol_model = mdl.solve(clean_before_solve=True)\n",
    "    return x, y, sol_model"
   ]
  },
  {
   "cell_type": "code",
   "execution_count": 452,
   "id": "32f20083",
   "metadata": {},
   "outputs": [
    {
     "name": "stdout",
     "output_type": "stream",
     "text": [
      "0:00:01.900640\n",
      "0:00:01.999618\n",
      "0:00:01.787967\n",
      "0:00:01.517450\n",
      "0:00:01.691842\n",
      "0:00:01.666269\n",
      "0:00:01.421100\n",
      "0:00:01.597441\n",
      "0:00:01.497365\n",
      "0:00:01.437643\n",
      "0:00:01.408237\n",
      "0:00:01.550136\n",
      "0:00:01.461998\n",
      "0:00:01.433869\n",
      "0:00:01.596613\n"
     ]
    }
   ],
   "source": [
    "for k in range(3,18):\n",
    "    start2=datetime.now()\n",
    "    x, y, sol_model=LR(name=\"LR\",N=N,M=M,H=H,L=L,k=k,ddfij=ddfij)\n",
    "    running_time=datetime.now()-start2\n",
    "    cluster_points=get_y_values(y=y)\n",
    "    pd.DataFrame(cluster_points, columns=['cluster_points']).to_csv('results/with_reduction_500_20_cluster_points_'+str(k)+'_.csv')\n",
    "    obj=sol_model.get_objective_value()\n",
    "    objective_value.append(obj)\n",
    "    times.append(running_time)\n",
    "    k_list.append(k)\n",
    "    print(running_time)"
   ]
  },
  {
   "cell_type": "code",
   "execution_count": 453,
   "id": "82531cc8",
   "metadata": {},
   "outputs": [],
   "source": [
    "pd.DataFrame(list(zip(k_list, times, objective_value)),\n",
    "              columns=['k','Times','Objective_value']).to_csv('results/times_objective_value_with_reduction_500_20.csv')"
   ]
  },
  {
   "cell_type": "code",
   "execution_count": null,
   "id": "888d2dfe",
   "metadata": {},
   "outputs": [],
   "source": []
  }
 ],
 "metadata": {
  "kernelspec": {
   "display_name": "Python 3 (ipykernel)",
   "language": "python",
   "name": "python3"
  },
  "language_info": {
   "codemirror_mode": {
    "name": "ipython",
    "version": 3
   },
   "file_extension": ".py",
   "mimetype": "text/x-python",
   "name": "python",
   "nbconvert_exporter": "python",
   "pygments_lexer": "ipython3",
   "version": "3.7.13"
  }
 },
 "nbformat": 4,
 "nbformat_minor": 5
}
