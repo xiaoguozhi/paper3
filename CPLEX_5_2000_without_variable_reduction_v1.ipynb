{
 "cells": [
  {
   "cell_type": "code",
   "execution_count": 1,
   "id": "94208eb0",
   "metadata": {},
   "outputs": [],
   "source": [
    "import pandas as pd\n",
    "from sklearn.cluster import KMeans\n",
    "import os\n",
    "import sys\n",
    "import math\n",
    "import time\n",
    "from datetime import datetime\n",
    "import matplotlib.pyplot as plt\n",
    "import matplotlib.dates as mdates\n",
    "import matplotlib.ticker as ticker\n",
    "from matplotlib import cm, colors\n",
    "import copy\n",
    "import numpy as np\n",
    "from sklearn.manifold import TSNE\n",
    "from matplotlib import pyplot as plt\n",
    "import seaborn as sns\n",
    "from scipy.spatial import distance_matrix\n",
    "from docplex.mp.model import Model\n",
    "from docplex.util.environment import get_environment\n",
    "from docplex.mp.progress import *\n",
    "%matplotlib inline\n",
    "palette = sns.color_palette(\"bright\", 10)"
   ]
  },
  {
   "cell_type": "code",
   "execution_count": 2,
   "id": "f2afe46d",
   "metadata": {},
   "outputs": [],
   "source": [
    "#n=1000\n",
    "#sampled_df1=pd.read_csv(\"dataset/sub_data_500_20.csv\")\n",
    "sampled_df1=pd.read_csv(\"C:/Users/Zhifeng Guo/python_code/paper3_code/Lagrange_Relaxation/LR_equality/multiple_randomized_datasets_2000points/dataset/sub_data_2000_1.csv\")\n",
    "n=sampled_df1.shape[0]\n",
    "df_X=sampled_df1.loc[:, sampled_df1.columns.str.contains('X')]\n",
    "#df_X=sampled_df1.loc[:, sampled_df1.columns.str.contains('X')]"
   ]
  },
  {
   "cell_type": "code",
   "execution_count": 3,
   "id": "077548ee",
   "metadata": {},
   "outputs": [
    {
     "data": {
      "text/plain": [
       "(2000, 150)"
      ]
     },
     "execution_count": 3,
     "metadata": {},
     "output_type": "execute_result"
    }
   ],
   "source": [
    "df_X.shape"
   ]
  },
  {
   "cell_type": "code",
   "execution_count": 288,
   "id": "0bae3493",
   "metadata": {},
   "outputs": [],
   "source": [
    "#k0=30\n",
    "#3 to 17\n",
    "#k=9\n",
    "#kmeans = KMeans(n_clusters=k0, random_state=0).fit(df_X)\n",
    "#cluster_centers=pd.DataFrame(kmeans.cluster_centers_,columns=df_X.columns, index=[\"center\"+str(i) for i in range(k0)])).to_csv('sub_data_500_3_cluster_centers')"
   ]
  },
  {
   "cell_type": "code",
   "execution_count": 4,
   "id": "01eefb2b",
   "metadata": {},
   "outputs": [],
   "source": [
    "dfij=pd.DataFrame(distance_matrix(df_X.values, df_X.values), index=df_X.index, columns=df_X.index)\n",
    "dij=dfij.to_numpy()\n",
    "dij = np.round(dij, decimals=2)"
   ]
  },
  {
   "cell_type": "code",
   "execution_count": 5,
   "id": "566a09c3",
   "metadata": {},
   "outputs": [
    {
     "data": {
      "text/plain": [
       "(2000, 2000)"
      ]
     },
     "execution_count": 5,
     "metadata": {},
     "output_type": "execute_result"
    }
   ],
   "source": [
    "dij.shape"
   ]
  },
  {
   "cell_type": "code",
   "execution_count": 6,
   "id": "1b29333e",
   "metadata": {},
   "outputs": [],
   "source": [
    "def label_transform(x):\n",
    "    if x in (1, 2, 3):\n",
    "        return 'H'\n",
    "    if x in (52, 53, 54):\n",
    "        return 'L'\n",
    "    return 'O'\n",
    "\n",
    "def label_to_color(x):\n",
    "    if x in (1,2,3):\n",
    "        return c4\n",
    "    if x in (52,53,54):\n",
    "        return c1\n",
    "    return c5\n",
    "\n",
    "def label_to_alphas(x):\n",
    "    if x in (1,2,3):\n",
    "        return 1\n",
    "    if x in (52,53,54):\n",
    "        return 1\n",
    "    return 0.4"
   ]
  },
  {
   "cell_type": "code",
   "execution_count": 7,
   "id": "e56b3a9a",
   "metadata": {},
   "outputs": [],
   "source": [
    "sampled_df1['plot'] = sampled_df1['ACORN_Type'].apply(lambda x:label_transform(x))\n",
    "H=sampled_df1[sampled_df1['plot']=='H'].index\n",
    "L=sampled_df1[sampled_df1['plot']=='L'].index\n",
    "O=sampled_df1[sampled_df1['plot']=='O'].index"
   ]
  },
  {
   "cell_type": "code",
   "execution_count": 8,
   "id": "14f57067",
   "metadata": {},
   "outputs": [],
   "source": [
    "N=range(sampled_df1.shape[0])"
   ]
  },
  {
   "cell_type": "code",
   "execution_count": 9,
   "id": "30944abf",
   "metadata": {},
   "outputs": [
    {
     "data": {
      "text/plain": [
       "range(0, 2000)"
      ]
     },
     "execution_count": 9,
     "metadata": {},
     "output_type": "execute_result"
    }
   ],
   "source": [
    "N"
   ]
  },
  {
   "cell_type": "code",
   "execution_count": 10,
   "id": "574c1c78",
   "metadata": {},
   "outputs": [],
   "source": [
    "def CPLEX_Model(name,N,H,L,k,dij):\n",
    "    mdl=Model(name=name)\n",
    "        #set variables\n",
    "    x=mdl.binary_var_dict([(i,j) for i in N for j in N],lb=0.0, name=\"x\")\n",
    "    y=mdl.binary_var_dict([j for j in N],name=\"y\")\n",
    "    mdl.add_constraints(x[i, j] -y[j]<= 0 for i in N for j in N)\n",
    "    mdl.add_constraint(mdl.sum(y[j] for j in N) ==k)\n",
    "    mdl.add_constraints(mdl.sum(x[i, j] for j in N) == 1 for i in N)\n",
    "    mdl.add_constraints(x[i1, j]+x[i2, j] -1<= 0 for i1 in H for i2 in L for j in N)\n",
    "    mdl.minimize(mdl.sum(dij[i, j]*x[i,j] for i in N for j in N))\n",
    "    sol_model = mdl.solve(clean_before_solve=True)\n",
    "    print(\"solved!\")\n",
    "    return x, y, sol_model"
   ]
  },
  {
   "cell_type": "code",
   "execution_count": 11,
   "id": "51d3e1e9",
   "metadata": {},
   "outputs": [],
   "source": [
    "def get_y_values(y):\n",
    "    Yj=[]\n",
    "    for i in N:\n",
    "        if y[i].solution_value==1:\n",
    "            Yj.append(i)\n",
    "    return Yj"
   ]
  },
  {
   "cell_type": "code",
   "execution_count": 12,
   "id": "a8ced95e",
   "metadata": {},
   "outputs": [],
   "source": [
    "k_list=[]\n",
    "times=[]\n",
    "objective_value=[]"
   ]
  },
  {
   "cell_type": "code",
   "execution_count": 13,
   "id": "035b3eda",
   "metadata": {},
   "outputs": [
    {
     "name": "stdout",
     "output_type": "stream",
     "text": [
      "solved!\n"
     ]
    },
    {
     "ename": "DOcplexException",
     "evalue": "Model<CPLEX_Model> did not solve successfully",
     "output_type": "error",
     "traceback": [
      "\u001b[1;31m---------------------------------------------------------------------------\u001b[0m",
      "\u001b[1;31mDOcplexException\u001b[0m                          Traceback (most recent call last)",
      "\u001b[1;32m~\\AppData\\Local\\Temp\\ipykernel_7612\\1501926074.py\u001b[0m in \u001b[0;36m<module>\u001b[1;34m\u001b[0m\n\u001b[0;32m      3\u001b[0m     \u001b[0mx\u001b[0m\u001b[1;33m,\u001b[0m \u001b[0my\u001b[0m\u001b[1;33m,\u001b[0m \u001b[0msol_model\u001b[0m\u001b[1;33m=\u001b[0m\u001b[0mCPLEX_Model\u001b[0m\u001b[1;33m(\u001b[0m\u001b[0mname\u001b[0m\u001b[1;33m=\u001b[0m\u001b[1;34m\"CPLEX_Model\"\u001b[0m\u001b[1;33m,\u001b[0m\u001b[0mN\u001b[0m\u001b[1;33m=\u001b[0m\u001b[0mN\u001b[0m\u001b[1;33m,\u001b[0m\u001b[0mH\u001b[0m\u001b[1;33m=\u001b[0m\u001b[0mH\u001b[0m\u001b[1;33m,\u001b[0m\u001b[0mL\u001b[0m\u001b[1;33m=\u001b[0m\u001b[0mL\u001b[0m\u001b[1;33m,\u001b[0m\u001b[0mk\u001b[0m\u001b[1;33m=\u001b[0m\u001b[0mk\u001b[0m\u001b[1;33m,\u001b[0m\u001b[0mdij\u001b[0m\u001b[1;33m=\u001b[0m\u001b[0mdij\u001b[0m\u001b[1;33m)\u001b[0m\u001b[1;33m\u001b[0m\u001b[1;33m\u001b[0m\u001b[0m\n\u001b[0;32m      4\u001b[0m     \u001b[0mrunning_time\u001b[0m\u001b[1;33m=\u001b[0m\u001b[0mdatetime\u001b[0m\u001b[1;33m.\u001b[0m\u001b[0mnow\u001b[0m\u001b[1;33m(\u001b[0m\u001b[1;33m)\u001b[0m\u001b[1;33m-\u001b[0m\u001b[0mstart2\u001b[0m\u001b[1;33m\u001b[0m\u001b[1;33m\u001b[0m\u001b[0m\n\u001b[1;32m----> 5\u001b[1;33m     \u001b[0mcluster_points\u001b[0m\u001b[1;33m=\u001b[0m\u001b[0mget_y_values\u001b[0m\u001b[1;33m(\u001b[0m\u001b[0my\u001b[0m\u001b[1;33m=\u001b[0m\u001b[0my\u001b[0m\u001b[1;33m)\u001b[0m\u001b[1;33m\u001b[0m\u001b[1;33m\u001b[0m\u001b[0m\n\u001b[0m\u001b[0;32m      6\u001b[0m     \u001b[0mpd\u001b[0m\u001b[1;33m.\u001b[0m\u001b[0mDataFrame\u001b[0m\u001b[1;33m(\u001b[0m\u001b[0mcluster_points\u001b[0m\u001b[1;33m,\u001b[0m \u001b[0mcolumns\u001b[0m\u001b[1;33m=\u001b[0m\u001b[1;33m[\u001b[0m\u001b[1;34m'cluster_points'\u001b[0m\u001b[1;33m]\u001b[0m\u001b[1;33m)\u001b[0m\u001b[1;33m.\u001b[0m\u001b[0mto_csv\u001b[0m\u001b[1;33m(\u001b[0m\u001b[1;34m'results/without_2000_5_cluster_points_'\u001b[0m\u001b[1;33m+\u001b[0m\u001b[0mstr\u001b[0m\u001b[1;33m(\u001b[0m\u001b[0mk\u001b[0m\u001b[1;33m)\u001b[0m\u001b[1;33m+\u001b[0m\u001b[1;34m'_.csv'\u001b[0m\u001b[1;33m)\u001b[0m\u001b[1;33m\u001b[0m\u001b[1;33m\u001b[0m\u001b[0m\n\u001b[0;32m      7\u001b[0m     \u001b[0mobj\u001b[0m\u001b[1;33m=\u001b[0m\u001b[0msol_model\u001b[0m\u001b[1;33m.\u001b[0m\u001b[0mget_objective_value\u001b[0m\u001b[1;33m(\u001b[0m\u001b[1;33m)\u001b[0m\u001b[1;33m\u001b[0m\u001b[1;33m\u001b[0m\u001b[0m\n",
      "\u001b[1;32m~\\AppData\\Local\\Temp\\ipykernel_7612\\3203272206.py\u001b[0m in \u001b[0;36mget_y_values\u001b[1;34m(y)\u001b[0m\n\u001b[0;32m      2\u001b[0m     \u001b[0mYj\u001b[0m\u001b[1;33m=\u001b[0m\u001b[1;33m[\u001b[0m\u001b[1;33m]\u001b[0m\u001b[1;33m\u001b[0m\u001b[1;33m\u001b[0m\u001b[0m\n\u001b[0;32m      3\u001b[0m     \u001b[1;32mfor\u001b[0m \u001b[0mi\u001b[0m \u001b[1;32min\u001b[0m \u001b[0mN\u001b[0m\u001b[1;33m:\u001b[0m\u001b[1;33m\u001b[0m\u001b[1;33m\u001b[0m\u001b[0m\n\u001b[1;32m----> 4\u001b[1;33m         \u001b[1;32mif\u001b[0m \u001b[0my\u001b[0m\u001b[1;33m[\u001b[0m\u001b[0mi\u001b[0m\u001b[1;33m]\u001b[0m\u001b[1;33m.\u001b[0m\u001b[0msolution_value\u001b[0m\u001b[1;33m==\u001b[0m\u001b[1;36m1\u001b[0m\u001b[1;33m:\u001b[0m\u001b[1;33m\u001b[0m\u001b[1;33m\u001b[0m\u001b[0m\n\u001b[0m\u001b[0;32m      5\u001b[0m             \u001b[0mYj\u001b[0m\u001b[1;33m.\u001b[0m\u001b[0mappend\u001b[0m\u001b[1;33m(\u001b[0m\u001b[0mi\u001b[0m\u001b[1;33m)\u001b[0m\u001b[1;33m\u001b[0m\u001b[1;33m\u001b[0m\u001b[0m\n\u001b[0;32m      6\u001b[0m     \u001b[1;32mreturn\u001b[0m \u001b[0mYj\u001b[0m\u001b[1;33m\u001b[0m\u001b[1;33m\u001b[0m\u001b[0m\n",
      "\u001b[1;32mD:\\Program Files\\Anaconda\\envs\\cplex_env\\lib\\site-packages\\docplex-2.9.133-py3.7.egg\\docplex\\mp\\linear.py\u001b[0m in \u001b[0;36msolution_value\u001b[1;34m(self)\u001b[0m\n\u001b[0;32m    252\u001b[0m \u001b[1;33m\u001b[0m\u001b[0m\n\u001b[0;32m    253\u001b[0m         \"\"\"\n\u001b[1;32m--> 254\u001b[1;33m         \u001b[0mself\u001b[0m\u001b[1;33m.\u001b[0m\u001b[0m_check_model_has_solution\u001b[0m\u001b[1;33m(\u001b[0m\u001b[1;33m)\u001b[0m\u001b[1;33m\u001b[0m\u001b[1;33m\u001b[0m\u001b[0m\n\u001b[0m\u001b[0;32m    255\u001b[0m         \u001b[1;32mreturn\u001b[0m \u001b[0mself\u001b[0m\u001b[1;33m.\u001b[0m\u001b[0m_get_solution_value\u001b[0m\u001b[1;33m(\u001b[0m\u001b[1;33m)\u001b[0m\u001b[1;33m\u001b[0m\u001b[1;33m\u001b[0m\u001b[0m\n\u001b[0;32m    256\u001b[0m \u001b[1;33m\u001b[0m\u001b[0m\n",
      "\u001b[1;32mD:\\Program Files\\Anaconda\\envs\\cplex_env\\lib\\site-packages\\docplex-2.9.133-py3.7.egg\\docplex\\mp\\basic.py\u001b[0m in \u001b[0;36m_check_model_has_solution\u001b[1;34m(self)\u001b[0m\n\u001b[0;32m    100\u001b[0m \u001b[1;33m\u001b[0m\u001b[0m\n\u001b[0;32m    101\u001b[0m     \u001b[1;32mdef\u001b[0m \u001b[0m_check_model_has_solution\u001b[0m\u001b[1;33m(\u001b[0m\u001b[0mself\u001b[0m\u001b[1;33m)\u001b[0m\u001b[1;33m:\u001b[0m\u001b[1;33m\u001b[0m\u001b[1;33m\u001b[0m\u001b[0m\n\u001b[1;32m--> 102\u001b[1;33m         \u001b[0mself\u001b[0m\u001b[1;33m.\u001b[0m\u001b[0mmodel\u001b[0m\u001b[1;33m.\u001b[0m\u001b[0mcheck_has_solution\u001b[0m\u001b[1;33m(\u001b[0m\u001b[1;33m)\u001b[0m\u001b[1;33m\u001b[0m\u001b[1;33m\u001b[0m\u001b[0m\n\u001b[0m\u001b[0;32m    103\u001b[0m \u001b[1;33m\u001b[0m\u001b[0m\n\u001b[0;32m    104\u001b[0m     \u001b[1;32mdef\u001b[0m \u001b[0mfatal\u001b[0m\u001b[1;33m(\u001b[0m\u001b[0mself\u001b[0m\u001b[1;33m,\u001b[0m \u001b[0mmsg\u001b[0m\u001b[1;33m,\u001b[0m \u001b[1;33m*\u001b[0m\u001b[0margs\u001b[0m\u001b[1;33m)\u001b[0m\u001b[1;33m:\u001b[0m\u001b[1;33m\u001b[0m\u001b[1;33m\u001b[0m\u001b[0m\n",
      "\u001b[1;32mD:\\Program Files\\Anaconda\\envs\\cplex_env\\lib\\site-packages\\docplex-2.9.133-py3.7.egg\\docplex\\mp\\model.py\u001b[0m in \u001b[0;36mcheck_has_solution\u001b[1;34m(self)\u001b[0m\n\u001b[0;32m   4077\u001b[0m         \u001b[1;31m# see if we can refine messages here...\u001b[0m\u001b[1;33m\u001b[0m\u001b[1;33m\u001b[0m\u001b[1;33m\u001b[0m\u001b[0m\n\u001b[0;32m   4078\u001b[0m         \u001b[1;32mif\u001b[0m \u001b[0mself\u001b[0m\u001b[1;33m.\u001b[0m\u001b[0m_solution\u001b[0m \u001b[1;32mis\u001b[0m \u001b[1;32mNone\u001b[0m\u001b[1;33m:\u001b[0m\u001b[1;33m\u001b[0m\u001b[1;33m\u001b[0m\u001b[0m\n\u001b[1;32m-> 4079\u001b[1;33m             \u001b[0mself\u001b[0m\u001b[1;33m.\u001b[0m\u001b[0mfatal\u001b[0m\u001b[1;33m(\u001b[0m\u001b[1;34m\"Model<{0}> did not solve successfully\"\u001b[0m\u001b[1;33m,\u001b[0m \u001b[0mself\u001b[0m\u001b[1;33m.\u001b[0m\u001b[0mname\u001b[0m\u001b[1;33m)\u001b[0m\u001b[1;33m\u001b[0m\u001b[1;33m\u001b[0m\u001b[0m\n\u001b[0m\u001b[0;32m   4080\u001b[0m \u001b[1;33m\u001b[0m\u001b[0m\n\u001b[0;32m   4081\u001b[0m     \u001b[1;32mdef\u001b[0m \u001b[0madd_mip_start\u001b[0m\u001b[1;33m(\u001b[0m\u001b[0mself\u001b[0m\u001b[1;33m,\u001b[0m \u001b[0mmip_start_sol\u001b[0m\u001b[1;33m)\u001b[0m\u001b[1;33m:\u001b[0m\u001b[1;33m\u001b[0m\u001b[1;33m\u001b[0m\u001b[0m\n",
      "\u001b[1;32mD:\\Program Files\\Anaconda\\envs\\cplex_env\\lib\\site-packages\\docplex-2.9.133-py3.7.egg\\docplex\\mp\\model.py\u001b[0m in \u001b[0;36mfatal\u001b[1;34m(self, msg, *args)\u001b[0m\n\u001b[0;32m    774\u001b[0m \u001b[1;33m\u001b[0m\u001b[0m\n\u001b[0;32m    775\u001b[0m     \u001b[1;32mdef\u001b[0m \u001b[0mfatal\u001b[0m\u001b[1;33m(\u001b[0m\u001b[0mself\u001b[0m\u001b[1;33m,\u001b[0m \u001b[0mmsg\u001b[0m\u001b[1;33m,\u001b[0m \u001b[1;33m*\u001b[0m\u001b[0margs\u001b[0m\u001b[1;33m)\u001b[0m\u001b[1;33m:\u001b[0m\u001b[1;33m\u001b[0m\u001b[1;33m\u001b[0m\u001b[0m\n\u001b[1;32m--> 776\u001b[1;33m         \u001b[0mself\u001b[0m\u001b[1;33m.\u001b[0m\u001b[0m_error_handler\u001b[0m\u001b[1;33m.\u001b[0m\u001b[0mfatal\u001b[0m\u001b[1;33m(\u001b[0m\u001b[0mmsg\u001b[0m\u001b[1;33m,\u001b[0m \u001b[0margs\u001b[0m\u001b[1;33m)\u001b[0m\u001b[1;33m\u001b[0m\u001b[1;33m\u001b[0m\u001b[0m\n\u001b[0m\u001b[0;32m    777\u001b[0m \u001b[1;33m\u001b[0m\u001b[0m\n\u001b[0;32m    778\u001b[0m     \u001b[1;32mdef\u001b[0m \u001b[0mfatal_ce_limits\u001b[0m\u001b[1;33m(\u001b[0m\u001b[0mself\u001b[0m\u001b[1;33m,\u001b[0m \u001b[1;33m*\u001b[0m\u001b[0margs\u001b[0m\u001b[1;33m)\u001b[0m\u001b[1;33m:\u001b[0m\u001b[1;33m\u001b[0m\u001b[1;33m\u001b[0m\u001b[0m\n",
      "\u001b[1;32mD:\\Program Files\\Anaconda\\envs\\cplex_env\\lib\\site-packages\\docplex-2.9.133-py3.7.egg\\docplex\\mp\\error_handler.py\u001b[0m in \u001b[0;36mfatal\u001b[1;34m(self, msg, args)\u001b[0m\n\u001b[0;32m    208\u001b[0m         \u001b[0mresolved_message\u001b[0m \u001b[1;33m=\u001b[0m \u001b[0mresolve_pattern\u001b[0m\u001b[1;33m(\u001b[0m\u001b[0mmsg\u001b[0m\u001b[1;33m,\u001b[0m \u001b[0margs\u001b[0m\u001b[1;33m)\u001b[0m\u001b[1;33m\u001b[0m\u001b[1;33m\u001b[0m\u001b[0m\n\u001b[0;32m    209\u001b[0m         \u001b[0mdocplex_error_stop_here\u001b[0m\u001b[1;33m(\u001b[0m\u001b[1;33m)\u001b[0m\u001b[1;33m\u001b[0m\u001b[1;33m\u001b[0m\u001b[0m\n\u001b[1;32m--> 210\u001b[1;33m         \u001b[1;32mraise\u001b[0m \u001b[0mDOcplexException\u001b[0m\u001b[1;33m(\u001b[0m\u001b[0mresolved_message\u001b[0m\u001b[1;33m)\u001b[0m\u001b[1;33m\u001b[0m\u001b[1;33m\u001b[0m\u001b[0m\n\u001b[0m\u001b[0;32m    211\u001b[0m \u001b[1;33m\u001b[0m\u001b[0m\n\u001b[0;32m    212\u001b[0m     \u001b[1;32mdef\u001b[0m \u001b[0mfatal_limits_exceeded\u001b[0m\u001b[1;33m(\u001b[0m\u001b[0mself\u001b[0m\u001b[1;33m)\u001b[0m\u001b[1;33m:\u001b[0m\u001b[1;33m\u001b[0m\u001b[1;33m\u001b[0m\u001b[0m\n",
      "\u001b[1;31mDOcplexException\u001b[0m: Model<CPLEX_Model> did not solve successfully"
     ]
    }
   ],
   "source": [
    "for k in range(3,18):\n",
    "    start2=datetime.now()\n",
    "    x, y, sol_model=CPLEX_Model(name=\"CPLEX_Model\",N=N,H=H,L=L,k=k,dij=dij)\n",
    "    running_time=datetime.now()-start2\n",
    "    cluster_points=get_y_values(y=y)\n",
    "    pd.DataFrame(cluster_points, columns=['cluster_points']).to_csv('results/without_2000_5_cluster_points_'+str(k)+'_.csv')\n",
    "    obj=sol_model.get_objective_value()\n",
    "    objective_value.append(obj)\n",
    "    times.append(running_time)\n",
    "    k_list.append(k)\n",
    "    print(running_time)"
   ]
  },
  {
   "cell_type": "code",
   "execution_count": 299,
   "id": "bf9050d3",
   "metadata": {},
   "outputs": [],
   "source": [
    "pd.DataFrame(list(zip(k_list, times, objective_value)),\n",
    "              columns=['k','Times','Objective_value']).to_csv('results/times_objective_value_without_variable_reduction_2000_5.csv')"
   ]
  },
  {
   "cell_type": "code",
   "execution_count": null,
   "id": "b8f8ab9e",
   "metadata": {},
   "outputs": [],
   "source": []
  }
 ],
 "metadata": {
  "kernelspec": {
   "display_name": "Python 3 (ipykernel)",
   "language": "python",
   "name": "python3"
  },
  "language_info": {
   "codemirror_mode": {
    "name": "ipython",
    "version": 3
   },
   "file_extension": ".py",
   "mimetype": "text/x-python",
   "name": "python",
   "nbconvert_exporter": "python",
   "pygments_lexer": "ipython3",
   "version": "3.7.13"
  }
 },
 "nbformat": 4,
 "nbformat_minor": 5
}
