{
 "cells": [
  {
   "cell_type": "code",
   "execution_count": 1,
   "id": "a34fb8d7",
   "metadata": {},
   "outputs": [],
   "source": [
    "import pandas as pd\n",
    "from sklearn.cluster import KMeans\n",
    "import os\n",
    "import sys\n",
    "import math\n",
    "import time\n",
    "from datetime import datetime\n",
    "import copy\n",
    "import numpy as np\n",
    "from scipy.spatial import distance_matrix\n",
    "from docplex.mp.model import Model\n",
    "import docplex.mp.conflict_refiner as cr\n",
    "from docplex.util.environment import get_environment\n",
    "from docplex.mp.progress import *"
   ]
  },
  {
   "cell_type": "code",
   "execution_count": 2,
   "id": "4f8ee08c",
   "metadata": {},
   "outputs": [
    {
     "data": {
      "text/plain": [
       "'C:\\\\Users\\\\Zhifeng Guo\\\\python_code\\\\paper3_code\\\\Benchmark'"
      ]
     },
     "execution_count": 2,
     "metadata": {},
     "output_type": "execute_result"
    }
   ],
   "source": [
    "os.getcwd()"
   ]
  },
  {
   "cell_type": "code",
   "execution_count": 3,
   "id": "46379fa9",
   "metadata": {},
   "outputs": [],
   "source": [
    "#label_df1=pd.read_csv(\"bc_datasets/Soybean/soybean.classes.txt\",header=None)\n",
    "#label_df1=pd.read_csv(\"bc_datasets/Protein/protein.classes.txt\",sep=\" \",header=None)\n",
    "#label_df1=pd.read_csv(\"bc_datasets/Iris/iris.classes.txt\",sep=\" \",header=None)\n",
    "#label_df1=pd.read_csv(\"bc_datasets/Wine/wine.classes.txt\",sep=\" \",header=None)\n",
    "#label_df1=pd.read_csv(\"bc_datasets/Ionosphere/ionosphere.classes.txt\",sep=\" \",header=None)\n",
    "#label_df1=pd.read_csv(\"bc_datasets/Control/control.classes.txt\",sep=\" \",header=None)\n",
    "#label_df1=pd.read_csv(\"bc_datasets/Balance/balance.classes.txt\",sep=\" \",header=None)\n",
    "label_df1=pd.read_csv(\"bc_datasets/Yeast/yeast.classes.txt\",sep=\" \",header=None)"
   ]
  },
  {
   "cell_type": "code",
   "execution_count": 4,
   "id": "7288d320",
   "metadata": {},
   "outputs": [
    {
     "name": "stdout",
     "output_type": "stream",
     "text": [
      "10\n"
     ]
    }
   ],
   "source": [
    "p=label_df1.value_counts().shape[0]\n",
    "print(p)"
   ]
  },
  {
   "cell_type": "code",
   "execution_count": 5,
   "id": "e3f90dcc",
   "metadata": {},
   "outputs": [],
   "source": [
    "#sampled_df1=pd.read_csv(\"bc_datasets/Soybean/soybean.data.txt\",sep=\" \",header=None)\n",
    "#sampled_df1=pd.read_csv(\"bc_datasets/Protein/protein.data.txt\",sep=\" \",header=None)\n",
    "#sampled_df1=pd.read_csv(\"bc_datasets/Iris/iris.data.txt\",sep=\" \",header=None)\n",
    "#sampled_df1=pd.read_csv(\"bc_datasets/Wine/wine.data.txt\",sep=\" \",header=None)\n",
    "#sampled_df1=pd.read_csv(\"bc_datasets/Ionosphere/ionosphere.data.txt\",sep=\" \",header=None)\n",
    "#sampled_df1=pd.read_csv(\"bc_datasets/Control/control.data.txt\",sep=\" \",header=None)\n",
    "#sampled_df1=pd.read_csv(\"bc_datasets/Balance/balance.data.txt\",sep=\" \",header=None)\n",
    "sampled_df1=pd.read_csv(\"bc_datasets/Yeast/yeast.data.txt\",sep=\" \",header=None)\n",
    "\n",
    "sampled_df1.columns = [f'X{i+1}' for i in range(len(sampled_df1.columns))]\n",
    "sampled_df1=sampled_df1.dropna(axis=1, how='any')\n",
    "df_X=sampled_df1.loc[:, sampled_df1.columns.str.contains('X')]"
   ]
  },
  {
   "cell_type": "code",
   "execution_count": 6,
   "id": "3df0486d",
   "metadata": {},
   "outputs": [
    {
     "data": {
      "text/html": [
       "<div>\n",
       "<style scoped>\n",
       "    .dataframe tbody tr th:only-of-type {\n",
       "        vertical-align: middle;\n",
       "    }\n",
       "\n",
       "    .dataframe tbody tr th {\n",
       "        vertical-align: top;\n",
       "    }\n",
       "\n",
       "    .dataframe thead th {\n",
       "        text-align: right;\n",
       "    }\n",
       "</style>\n",
       "<table border=\"1\" class=\"dataframe\">\n",
       "  <thead>\n",
       "    <tr style=\"text-align: right;\">\n",
       "      <th></th>\n",
       "      <th>X1</th>\n",
       "      <th>X2</th>\n",
       "      <th>X3</th>\n",
       "      <th>X4</th>\n",
       "      <th>X5</th>\n",
       "      <th>X6</th>\n",
       "      <th>X7</th>\n",
       "      <th>X8</th>\n",
       "    </tr>\n",
       "  </thead>\n",
       "  <tbody>\n",
       "    <tr>\n",
       "      <th>0</th>\n",
       "      <td>0.58</td>\n",
       "      <td>0.61</td>\n",
       "      <td>0.47</td>\n",
       "      <td>0.13</td>\n",
       "      <td>0.5</td>\n",
       "      <td>0.0</td>\n",
       "      <td>0.48</td>\n",
       "      <td>0.22</td>\n",
       "    </tr>\n",
       "    <tr>\n",
       "      <th>1</th>\n",
       "      <td>0.43</td>\n",
       "      <td>0.67</td>\n",
       "      <td>0.48</td>\n",
       "      <td>0.27</td>\n",
       "      <td>0.5</td>\n",
       "      <td>0.0</td>\n",
       "      <td>0.53</td>\n",
       "      <td>0.22</td>\n",
       "    </tr>\n",
       "    <tr>\n",
       "      <th>2</th>\n",
       "      <td>0.64</td>\n",
       "      <td>0.62</td>\n",
       "      <td>0.49</td>\n",
       "      <td>0.15</td>\n",
       "      <td>0.5</td>\n",
       "      <td>0.0</td>\n",
       "      <td>0.53</td>\n",
       "      <td>0.22</td>\n",
       "    </tr>\n",
       "    <tr>\n",
       "      <th>3</th>\n",
       "      <td>0.58</td>\n",
       "      <td>0.44</td>\n",
       "      <td>0.57</td>\n",
       "      <td>0.13</td>\n",
       "      <td>0.5</td>\n",
       "      <td>0.0</td>\n",
       "      <td>0.54</td>\n",
       "      <td>0.22</td>\n",
       "    </tr>\n",
       "    <tr>\n",
       "      <th>4</th>\n",
       "      <td>0.42</td>\n",
       "      <td>0.44</td>\n",
       "      <td>0.48</td>\n",
       "      <td>0.54</td>\n",
       "      <td>0.5</td>\n",
       "      <td>0.0</td>\n",
       "      <td>0.48</td>\n",
       "      <td>0.22</td>\n",
       "    </tr>\n",
       "  </tbody>\n",
       "</table>\n",
       "</div>"
      ],
      "text/plain": [
       "     X1    X2    X3    X4   X5   X6    X7    X8\n",
       "0  0.58  0.61  0.47  0.13  0.5  0.0  0.48  0.22\n",
       "1  0.43  0.67  0.48  0.27  0.5  0.0  0.53  0.22\n",
       "2  0.64  0.62  0.49  0.15  0.5  0.0  0.53  0.22\n",
       "3  0.58  0.44  0.57  0.13  0.5  0.0  0.54  0.22\n",
       "4  0.42  0.44  0.48  0.54  0.5  0.0  0.48  0.22"
      ]
     },
     "execution_count": 6,
     "metadata": {},
     "output_type": "execute_result"
    }
   ],
   "source": [
    "sampled_df1.head()"
   ]
  },
  {
   "cell_type": "code",
   "execution_count": 7,
   "id": "14902ddd",
   "metadata": {},
   "outputs": [
    {
     "data": {
      "text/plain": [
       "(1484, 8)"
      ]
     },
     "execution_count": 7,
     "metadata": {},
     "output_type": "execute_result"
    }
   ],
   "source": [
    "sampled_df1.shape"
   ]
  },
  {
   "cell_type": "code",
   "execution_count": 8,
   "id": "1c336e08",
   "metadata": {},
   "outputs": [],
   "source": [
    "dfij=pd.DataFrame(distance_matrix(df_X.values, df_X.values), index=df_X.index, columns=df_X.index)\n",
    "dij=dfij.to_numpy()\n",
    "#dij = np.round(dij, decimals=2)"
   ]
  },
  {
   "cell_type": "code",
   "execution_count": 9,
   "id": "adc95ea2",
   "metadata": {},
   "outputs": [
    {
     "data": {
      "text/plain": [
       "(1484, 1484)"
      ]
     },
     "execution_count": 9,
     "metadata": {},
     "output_type": "execute_result"
    }
   ],
   "source": [
    "dij.shape"
   ]
  },
  {
   "cell_type": "code",
   "execution_count": 10,
   "id": "47ce0af0",
   "metadata": {},
   "outputs": [
    {
     "data": {
      "text/html": [
       "<div>\n",
       "<style scoped>\n",
       "    .dataframe tbody tr th:only-of-type {\n",
       "        vertical-align: middle;\n",
       "    }\n",
       "\n",
       "    .dataframe tbody tr th {\n",
       "        vertical-align: top;\n",
       "    }\n",
       "\n",
       "    .dataframe thead th {\n",
       "        text-align: right;\n",
       "    }\n",
       "</style>\n",
       "<table border=\"1\" class=\"dataframe\">\n",
       "  <thead>\n",
       "    <tr style=\"text-align: right;\">\n",
       "      <th></th>\n",
       "      <th>f1</th>\n",
       "      <th>f2</th>\n",
       "      <th>f3</th>\n",
       "    </tr>\n",
       "  </thead>\n",
       "  <tbody>\n",
       "    <tr>\n",
       "      <th>0</th>\n",
       "      <td>952</td>\n",
       "      <td>641</td>\n",
       "      <td>-1</td>\n",
       "    </tr>\n",
       "    <tr>\n",
       "      <th>1</th>\n",
       "      <td>1070</td>\n",
       "      <td>1409</td>\n",
       "      <td>-1</td>\n",
       "    </tr>\n",
       "    <tr>\n",
       "      <th>2</th>\n",
       "      <td>1131</td>\n",
       "      <td>1093</td>\n",
       "      <td>-1</td>\n",
       "    </tr>\n",
       "    <tr>\n",
       "      <th>3</th>\n",
       "      <td>1401</td>\n",
       "      <td>821</td>\n",
       "      <td>-1</td>\n",
       "    </tr>\n",
       "    <tr>\n",
       "      <th>4</th>\n",
       "      <td>412</td>\n",
       "      <td>1450</td>\n",
       "      <td>-1</td>\n",
       "    </tr>\n",
       "  </tbody>\n",
       "</table>\n",
       "</div>"
      ],
      "text/plain": [
       "     f1    f2  f3\n",
       "0   952   641  -1\n",
       "1  1070  1409  -1\n",
       "2  1131  1093  -1\n",
       "3  1401   821  -1\n",
       "4   412  1450  -1"
      ]
     },
     "execution_count": 10,
     "metadata": {},
     "output_type": "execute_result"
    }
   ],
   "source": [
    "#done\n",
    "#Constraints_data=pd.read_csv(\"bc_datasets/Soybean/soybean1.txt\",sep=\"\\t\",header=None)\n",
    "#Constraints_data=pd.read_csv(\"bc_datasets/Soybean/soybean2.txt\",sep=\"\\t\",header=None)\n",
    "\n",
    "#done\n",
    "#Constraints_data=pd.read_csv(\"bc_datasets/Protein/protein1.txt\",sep=\"\\t\",header=None)\n",
    "#Constraints_data=pd.read_csv(\"bc_datasets/Protein/protein2.txt\",sep=\"\\t\",header=None)\n",
    "\n",
    "#done\n",
    "#Constraints_data=pd.read_csv(\"bc_datasets/Iris/iris1.txt\",sep=\"\\t\",header=None)\n",
    "#Constraints_data=pd.read_csv(\"bc_datasets/Iris/iris2.txt\",sep=\"\\t\",header=None)\n",
    "\n",
    "#Constraints_data=pd.read_csv(\"bc_datasets/Wine/wine1.txt\",sep=\"\\t\",header=None)\n",
    "#Constraints_data=pd.read_csv(\"bc_datasets/Wine/wine2.txt\",sep=\"\\t\",header=None)\n",
    "\n",
    "#Constraints_data=pd.read_csv(\"bc_datasets/Ionosphere/ionosphere1.txt\",sep=\"\\t\",header=None)\n",
    "#Constraints_data=pd.read_csv(\"bc_datasets/Ionosphere/ionosphere2.txt\",sep=\"\\t\",header=None)\n",
    "\n",
    "#Constraints_data=pd.read_csv(\"bc_datasets/Control/control1.txt\",sep=\"\\t\",header=None)\n",
    "#Constraints_data=pd.read_csv(\"bc_datasets/Control/control2.txt\",sep=\"\\t\",header=None)\n",
    "\n",
    "#Constraints_data=pd.read_csv(\"bc_datasets/Balance/balance1.txt\",sep=\"\\t\",header=None)\n",
    "#Constraints_data=pd.read_csv(\"bc_datasets/Balance/balance2.txt\",sep=\"\\t\",header=None)\n",
    "\n",
    "Constraints_data=pd.read_csv(\"bc_datasets/Yeast/yeast1.txt\",sep=\"\\t\",header=None)\n",
    "#Constraints_data=pd.read_csv(\"bc_datasets/Yeast/yeast2.txt\",sep=\"\\t\",header=None)\n",
    "\n",
    "\n",
    "Constraints_data.columns = [f'f{i+1}' for i in range(len(Constraints_data.columns))]\n",
    "\n",
    "Constraints_data.head()"
   ]
  },
  {
   "cell_type": "code",
   "execution_count": 11,
   "id": "ebd4f2c2",
   "metadata": {},
   "outputs": [],
   "source": [
    "ML=Constraints_data[Constraints_data['f3']==1]\n",
    "CL=Constraints_data[Constraints_data['f3']==-1]"
   ]
  },
  {
   "cell_type": "code",
   "execution_count": 12,
   "id": "fdbad052",
   "metadata": {},
   "outputs": [
    {
     "data": {
      "text/plain": [
       "(148, 3)"
      ]
     },
     "execution_count": 12,
     "metadata": {},
     "output_type": "execute_result"
    }
   ],
   "source": [
    "ML.shape\n"
   ]
  },
  {
   "cell_type": "code",
   "execution_count": 13,
   "id": "31147080",
   "metadata": {},
   "outputs": [
    {
     "data": {
      "text/plain": [
       "(89, 3)"
      ]
     },
     "execution_count": 13,
     "metadata": {},
     "output_type": "execute_result"
    }
   ],
   "source": [
    "CL.shape"
   ]
  },
  {
   "cell_type": "code",
   "execution_count": 14,
   "id": "be75304e",
   "metadata": {},
   "outputs": [
    {
     "data": {
      "text/html": [
       "<div>\n",
       "<style scoped>\n",
       "    .dataframe tbody tr th:only-of-type {\n",
       "        vertical-align: middle;\n",
       "    }\n",
       "\n",
       "    .dataframe tbody tr th {\n",
       "        vertical-align: top;\n",
       "    }\n",
       "\n",
       "    .dataframe thead th {\n",
       "        text-align: right;\n",
       "    }\n",
       "</style>\n",
       "<table border=\"1\" class=\"dataframe\">\n",
       "  <thead>\n",
       "    <tr style=\"text-align: right;\">\n",
       "      <th></th>\n",
       "      <th>f1</th>\n",
       "      <th>f2</th>\n",
       "      <th>f3</th>\n",
       "    </tr>\n",
       "  </thead>\n",
       "  <tbody>\n",
       "    <tr>\n",
       "      <th>0</th>\n",
       "      <td>952</td>\n",
       "      <td>641</td>\n",
       "      <td>-1</td>\n",
       "    </tr>\n",
       "    <tr>\n",
       "      <th>1</th>\n",
       "      <td>1070</td>\n",
       "      <td>1409</td>\n",
       "      <td>-1</td>\n",
       "    </tr>\n",
       "    <tr>\n",
       "      <th>2</th>\n",
       "      <td>1131</td>\n",
       "      <td>1093</td>\n",
       "      <td>-1</td>\n",
       "    </tr>\n",
       "    <tr>\n",
       "      <th>3</th>\n",
       "      <td>1401</td>\n",
       "      <td>821</td>\n",
       "      <td>-1</td>\n",
       "    </tr>\n",
       "    <tr>\n",
       "      <th>4</th>\n",
       "      <td>412</td>\n",
       "      <td>1450</td>\n",
       "      <td>-1</td>\n",
       "    </tr>\n",
       "  </tbody>\n",
       "</table>\n",
       "</div>"
      ],
      "text/plain": [
       "     f1    f2  f3\n",
       "0   952   641  -1\n",
       "1  1070  1409  -1\n",
       "2  1131  1093  -1\n",
       "3  1401   821  -1\n",
       "4   412  1450  -1"
      ]
     },
     "execution_count": 14,
     "metadata": {},
     "output_type": "execute_result"
    }
   ],
   "source": [
    "CL.head()"
   ]
  },
  {
   "cell_type": "code",
   "execution_count": 15,
   "id": "c9d1a316",
   "metadata": {},
   "outputs": [],
   "source": [
    "N=range(sampled_df1.shape[0])"
   ]
  },
  {
   "cell_type": "code",
   "execution_count": 16,
   "id": "2dabc397",
   "metadata": {},
   "outputs": [],
   "source": [
    "def CPLEX_Model(name,N,ML,CL,p,dij):\n",
    "    mdl=Model(name=name,log_output=True)\n",
    "    #mdl=Model(name=name)\n",
    "\n",
    "    #print(mdl.parameters.workmem())\n",
    "    #print(mdl.parameters.mip.strategy.file())\n",
    "    #mdl.parameters.mip.strategy.file=2\n",
    "    #mdl.context.cplex_parameters.threads = 12\n",
    "    #mdl.parameters.workmem=2048\n",
    "    #mdl.parameters.parallel=1\n",
    "\n",
    "\n",
    "    #set variables\n",
    "    x=mdl.continuous_var_dict([(i,j) for i in N for j in N],lb=0.0, name=\"x\")\n",
    "    y=mdl.binary_var_dict([j for j in N],name=\"y\")\n",
    "    \n",
    "    mdl.add_constraints(x[i, j] -y[j]<= 0 for i in N for j in N)\n",
    "    mdl.add_constraint(mdl.sum(y[j] for j in N) == p)\n",
    "    mdl.add_constraints(mdl.sum(x[i, j] for j in N) == 1 for i in N)\n",
    "    \n",
    "\n",
    "    mdl.add_constraints(x[row[1], j]+x[row[2], j] -1<= 0  for row in CL.itertuples() for j in N)\n",
    "    #mdl.add_constraints(x[row[2], j]+x[row[1], j] -1<= 0  for row in CL.itertuples() for j in N)\n",
    "\n",
    "    mdl.add_constraints(x[row[1], j]-x[row[2], j] == 0  for row in ML.itertuples() for j in N)\n",
    "    #mdl.add_constraints(x[row[2], j]-x[row[1], j] == 0  for row in ML.itertuples() for j in N)\n",
    "    \n",
    "    mdl.minimize(mdl.sum(dij[i, j]*x[i,j] for i in N for j in N))\n",
    "    mdl.parameters.benders.strategy = 3 # for benders decomposition\n",
    "    sol_model = mdl.solve(clean_before_solve=True)\n",
    "    \n",
    "    solve_status = mdl.get_solve_status()\n",
    "    print(solve_status)\n",
    "    return x, y, sol_model"
   ]
  },
  {
   "cell_type": "code",
   "execution_count": 17,
   "id": "4e795f81",
   "metadata": {},
   "outputs": [],
   "source": [
    "def get_y_values(y):\n",
    "    Yj=[]\n",
    "    for i in N:\n",
    "        if y[i].solution_value==1:\n",
    "            Yj.append(i)\n",
    "    return Yj"
   ]
  },
  {
   "cell_type": "code",
   "execution_count": 18,
   "id": "698876e8",
   "metadata": {},
   "outputs": [
    {
     "name": "stdout",
     "output_type": "stream",
     "text": [
      "10\n",
      "CPXPARAM_Read_DataCheck                          1\n",
      "CPXPARAM_RandomSeed                              201804051\n",
      "CPXPARAM_Benders_Strategy                        3\n",
      "Aggregator has done 219632 substitutions...\n",
      "Tried aggregator 2 times.\n",
      "MIP Presolve eliminated 219780 rows and 0 columns.\n",
      "Aggregator did 219632 substitutions.\n",
      "Reduced MIP has 2116037 rows, 1984108 columns, and 6213508 nonzeros.\n",
      "Reduced MIP has 1484 binaries, 0 generals, 0 SOSs, and 0 indicators.\n",
      "Presolve time = 6.80 sec. (13496.82 ticks)\n",
      "Found incumbent of value 478.359658 after 8.66 sec. (15778.87 ticks)\n",
      "Tried aggregator 1 time.\n",
      "Reduced MIP has 2116037 rows, 1984108 columns, and 6213508 nonzeros.\n",
      "Reduced MIP has 1484 binaries, 0 generals, 0 SOSs, and 0 indicators.\n",
      "Presolve time = 1.80 sec. (2093.64 ticks)\n",
      "\n",
      "        Nodes                                         Cuts/\n",
      "   Node  Left     Objective  IInf  Best Integer    Best Bound    ItCnt     Gap\n",
      "\n",
      "Tried aggregator 1 time.\n",
      "Reduced MIP has 1366 rows, 2731 columns, and 131065 nonzeros.\n",
      "Reduced MIP has 1484 binaries, 0 generals, 0 SOSs, and 0 indicators.\n",
      "Presolve time = 0.03 sec. (29.73 ticks)\n",
      "Probing time = 0.02 sec. (1.09 ticks)\n",
      "Tried aggregator 1 time.\n",
      "Reduced MIP has 1366 rows, 2731 columns, and 131065 nonzeros.\n",
      "Reduced MIP has 1484 binaries, 0 generals, 0 SOSs, and 0 indicators.\n",
      "Presolve time = 0.03 sec. (29.72 ticks)\n",
      "Probing time = 0.02 sec. (1.09 ticks)\n",
      "MIP emphasis: balance optimality and feasibility.\n",
      "MIP search method: dynamic search.\n",
      "Parallel mode: deterministic, using up to 20 threads.\n",
      "Root relaxation solution time = 0.06 sec. (88.50 ticks)\n",
      "*     0+    0                          305.0103      251.4412            17.56%\n",
      "      0     0      251.4413    54      305.0103      251.4413    16904   17.56%\n",
      "*     0+    0                          258.2708      251.4413             2.64%\n",
      "      0     0      251.4418    54      258.2708   Benders: 11    16929    2.64%\n",
      "*     0+    0                          254.2648      251.4418             1.11%\n",
      "*     0+    0                          253.1366      251.4418             0.67%\n",
      "*     0+    0                          252.6465      251.4418             0.48%\n",
      "\n",
      "Repeating presolve.\n",
      "Tried aggregator 1 time.\n",
      "MIP Presolve eliminated 0 rows and 857 columns.\n",
      "Reduced MIP has 1366 rows, 1874 columns, and 78514 nonzeros.\n",
      "Reduced MIP has 627 binaries, 0 generals, 0 SOSs, and 0 indicators.\n",
      "Presolve time = 0.05 sec. (35.97 ticks)\n",
      "Probing time = 0.00 sec. (1.32 ticks)\n",
      "Cover probing fixed 0 vars, tightened 1247 bounds.\n",
      "Tried aggregator 1 time.\n",
      "Reduced MIP has 1366 rows, 1874 columns, and 78514 nonzeros.\n",
      "Reduced MIP has 627 binaries, 0 generals, 0 SOSs, and 0 indicators.\n",
      "Presolve time = 0.03 sec. (19.55 ticks)\n",
      "Represolve time = 0.86 sec. (291.94 ticks)\n",
      "Probing time = 0.02 sec. (1.31 ticks)\n",
      "MIP emphasis: balance optimality and feasibility.\n",
      "MIP search method: dynamic search.\n",
      "Parallel mode: deterministic, using up to 20 threads.\n",
      "Root relaxation solution time = 0.16 sec. (236.26 ticks)\n",
      "*     0+    0                          252.6465      251.4418             0.48%\n",
      "      0     0      251.4463    58      252.6465      251.4463    34454    0.48%\n",
      "      0     0      251.4492    58      252.6465    MIRcuts: 1    34502    0.47%\n",
      "      0     0      251.4521    55      252.6465    Benders: 3    34557    0.47%\n",
      "      0     2      251.4665    59      252.6465      251.4521    34557    0.47%\n",
      "Elapsed time = 111.89 sec. (149246.85 ticks, tree = 0.02 MB, solutions = 4)\n",
      "      8     8      251.5858    27      252.6465      251.4670    36786    0.47%\n",
      "     42    30      251.6697    39      252.6465      251.4670    48831    0.47%\n",
      "    160   130      252.0349    24      252.6465      251.4869    71478    0.46%\n",
      "    184   158      251.8383    36      252.6465      251.4870    78597    0.46%\n",
      "    191   165      252.1485    13      252.6465      251.4870    80109    0.46%\n",
      "    198    56        cutoff            252.6465      251.4870    55869    0.46%\n",
      "*   207+   82                          252.3553      251.4870             0.34%\n",
      "    236   190        cutoff            252.3553      251.4870    88524    0.34%\n",
      "    269   190      252.2001    20      252.3553      251.4870    89770    0.34%\n",
      "    323   199      252.2542    23      252.3553      251.4870    95998    0.34%\n",
      "    460   216        cutoff            252.3553      251.4870   167906    0.34%\n",
      "Elapsed time = 152.16 sec. (152549.73 ticks, tree = 0.89 MB, solutions = 5)\n",
      "    616   208      252.2847    24      252.3553      251.4870   218183    0.34%\n",
      "    770   209        cutoff            252.3553      251.6399   264134    0.28%\n",
      "    992   232      252.2608    59      252.3553      251.6402   304908    0.28%\n",
      "   1296   257      252.1803    36      252.3553      251.6595   390335    0.28%\n",
      "   1568   321      252.1940    45      252.3553      251.6595   453601    0.28%\n",
      "   1919   321        cutoff            252.3553      251.6595   524077    0.28%\n",
      "*  2258   180      integral     0      252.3536      251.6595    83983    0.28%\n",
      "   2371   116        cutoff            252.3536      251.7353   596958    0.25%\n",
      "   2422    29      252.3473    31      252.3536      252.0766   611463    0.11%\n",
      "*  2425   342      integral     0      252.3202      252.0766   492071    0.10%\n",
      "\n",
      "Benders cuts applied:  4511\n",
      "Flow cuts applied:  1\n",
      "Mixed integer rounding cuts applied:  4\n",
      "\n",
      "Root node processing (before b&c):\n",
      "  Real time             =  106.23 sec. (149150.31 ticks)\n",
      "Parallel b&c, 20 threads:\n",
      "  Real time             =  218.59 sec. (11603.30 ticks)\n",
      "  Sync time (average)   =  107.59 sec.\n",
      "  Wait time (average)   =    0.00 sec.\n",
      "                          ------------\n",
      "Total (root+branch&cut) =  324.83 sec. (160753.61 ticks)\n",
      "JobSolveStatus.OPTIMAL_SOLUTION\n",
      "0:06:08.469294\n"
     ]
    }
   ],
   "source": [
    "#p=10\n",
    "times=[]\n",
    "objective_value=[]\n",
    "print(p)\n",
    "start2=datetime.now()\n",
    "x, y, sol_model=CPLEX_Model(name=\"CPLEX_Model\",N=N,ML=ML,CL=CL,p=p,dij=dij)\n",
    "running_time=datetime.now()-start2\n",
    "#cluster_points=get_y_values(y=y)\n",
    "#pd.DataFrame(cluster_points, columns=['cluster_points']).to_csv('results/without_500_20_cluster_points_'+str(k)+'_.csv')\n",
    "obj=sol_model.get_objective_value()\n",
    "objective_value.append(obj)\n",
    "times.append(running_time)\n",
    "print(running_time)"
   ]
  },
  {
   "cell_type": "code",
   "execution_count": 19,
   "id": "3a6cebd2",
   "metadata": {},
   "outputs": [
    {
     "data": {
      "text/plain": [
       "252.32023347313242"
      ]
     },
     "execution_count": 19,
     "metadata": {},
     "output_type": "execute_result"
    }
   ],
   "source": [
    "obj"
   ]
  },
  {
   "cell_type": "code",
   "execution_count": 119,
   "id": "9b0ca902",
   "metadata": {},
   "outputs": [],
   "source": [
    "final_point= get_y_values(y)"
   ]
  },
  {
   "cell_type": "code",
   "execution_count": 120,
   "id": "3d73887f",
   "metadata": {},
   "outputs": [
    {
     "data": {
      "text/plain": [
       "[85, 107, 205, 243, 307, 367]"
      ]
     },
     "execution_count": 120,
     "metadata": {},
     "output_type": "execute_result"
    }
   ],
   "source": [
    "final_point"
   ]
  },
  {
   "cell_type": "code",
   "execution_count": 350,
   "id": "b150dbaf",
   "metadata": {},
   "outputs": [
    {
     "data": {
      "text/plain": [
       "5285"
      ]
     },
     "execution_count": 350,
     "metadata": {},
     "output_type": "execute_result"
    }
   ],
   "source": [
    "3600+28*60+5"
   ]
  },
  {
   "cell_type": "code",
   "execution_count": null,
   "id": "9a950b95",
   "metadata": {},
   "outputs": [],
   "source": []
  }
 ],
 "metadata": {
  "kernelspec": {
   "display_name": "Python 3 (ipykernel)",
   "language": "python",
   "name": "python3"
  },
  "language_info": {
   "codemirror_mode": {
    "name": "ipython",
    "version": 3
   },
   "file_extension": ".py",
   "mimetype": "text/x-python",
   "name": "python",
   "nbconvert_exporter": "python",
   "pygments_lexer": "ipython3",
   "version": "3.7.13"
  }
 },
 "nbformat": 4,
 "nbformat_minor": 5
}
